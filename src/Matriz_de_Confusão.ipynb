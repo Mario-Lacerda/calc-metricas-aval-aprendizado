{
  "nbformat": 4,
  "nbformat_minor": 0,
  "metadata": {
    "colab": {
      "provenance": [],
      "collapsed_sections": [],
      "authorship_tag": "ABX9TyN6ydV7QM5buHgedtSOrVo6",
      "include_colab_link": true
    },
    "kernelspec": {
      "name": "python3",
      "display_name": "Python 3"
    },
    "language_info": {
      "name": "python"
    }
  },
  "cells": [
    {
      "cell_type": "markdown",
      "metadata": {
        "id": "view-in-github",
        "colab_type": "text"
      },
      "source": [
        "<a href=\"https://colab.research.google.com/github/FlaysonSantos/Matriz_de_Confusao/blob/main/Matriz_de_Confus%C3%A3o.ipynb\" target=\"_parent\"><img src=\"https://colab.research.google.com/assets/colab-badge.svg\" alt=\"Open In Colab\"/></a>"
      ]
    },
    {
      "cell_type": "code",
      "source": [
        "import numpy as np\n",
        "import pandas as pd\n",
        "from sklearn.datasets import load_breast_cancer\n",
        "from sklearn.model_selection import train_test_split\n",
        "from sklearn import svm\n",
        "from sklearn import metrics\n",
        "import matplotlib.pyplot as plt\n",
        "import seaborn as sns\n",
        "import itertools\n",
        "\n"
      ],
      "metadata": {
        "id": "_dLPpxCazO8K"
      },
      "execution_count": 54,
      "outputs": []
    },
    {
      "cell_type": "code",
      "execution_count": 38,
      "metadata": {
        "colab": {
          "base_uri": "https://localhost:8080/"
        },
        "id": "88ZmqkuEyQFC",
        "outputId": "524cb03f-91c4-4bfd-d3af-5570575afe76"
      },
      "outputs": [
        {
          "output_type": "execute_result",
          "data": {
            "text/plain": [
              "array([[ 4,  3],\n",
              "       [ 3, 10]])"
            ]
          },
          "metadata": {},
          "execution_count": 38
        }
      ],
      "source": [
        "\n",
        "\n",
        "# 1 para verde, 0 para amarelo\n",
        "valores_reais    = [1, 0, 0, 0, 0, 0, 0, 0, 1, 0, 1, 0, 0, 1, 0, 0, 1, 1, 1, 0]\n",
        "valores_preditos = [1, 0, 0, 1, 0, 0, 1, 1, 1, 0, 1, 0, 0, 0, 0, 0, 0, 0, 1, 0]\n",
        "\n",
        "def get_confusion_matrix(reais, preditos, labels):\n",
        "\n",
        "    # não implementado\n",
        "    if len(labels) > 2:\n",
        "        return None\n",
        "\n",
        "    if len(reais) != len(preditos):\n",
        "        return None\n",
        "    \n",
        "    # considerando a primeira classe como a positiva, e a segunda a negativa\n",
        "    true_class = labels[0]\n",
        "    negative_class = labels[1]\n",
        "\n",
        "    # valores preditos corretamente\n",
        "    tp = 0\n",
        "    tn = 0\n",
        "    \n",
        "    # valores preditos incorretamente\n",
        "    fp = 0\n",
        "    fn = 0\n",
        "    \n",
        "    for (indice, v_real) in enumerate(reais):\n",
        "        v_predito = preditos[indice]\n",
        "\n",
        "        # se trata de um valor real da classe positiva\n",
        "        if v_real == true_class:\n",
        "            tp += 1 if v_predito == v_real else 0\n",
        "            fp += 1 if v_predito != v_real else 0\n",
        "        else:\n",
        "            tn += 1 if v_predito == v_real else 0\n",
        "            fn += 1 if v_predito != v_real else 0\n",
        "    \n",
        "    return np.array([\n",
        "        # valores da classe positiva\n",
        "        [ tp, fp ],\n",
        "        # valores da classe negativa\n",
        "        [ fn, tn ]\n",
        "    ])\n",
        "\n",
        "conf = metrics.confusion_matrix(valores_reais, valores_preditos, labels=[1,0])\n",
        "conf\n",
        "\n",
        "\n",
        "\n"
      ]
    },
    {
      "cell_type": "code",
      "source": [
        "classes = [0, 1]\n",
        "# plot confusion matrix\n",
        "plt.imshow(conf, interpolation='nearest', cmap=plt.cm.Greens)\n",
        "plt.title(\"Confusion Matrix\")\n",
        "plt.colorbar()\n",
        "tick_marks = np.arange(len(classes))\n",
        "plt.xticks(tick_marks, classes)\n",
        "plt.yticks(tick_marks, classes)\n",
        "\n",
        "fmt = 'd'\n",
        "thresh = conf.max() / 2.\n",
        "for i, j in itertools.product(range(conf.shape[0]), range(conf.shape[1])):\n",
        "    plt.text(j, i, format(conf[i, j], fmt),\n",
        "             horizontalalignment=\"center\",\n",
        "             color=\"white\" if conf[i, j] > thresh else \"black\")\n",
        "\n",
        "plt.tight_layout()\n",
        "plt.ylabel('True label')\n",
        "plt.xlabel('Predicted label')"
      ],
      "metadata": {
        "colab": {
          "base_uri": "https://localhost:8080/",
          "height": 598
        },
        "id": "n8OjS9kA3Miy",
        "outputId": "916df132-f8cc-469d-8bcd-674c1986ae5f"
      },
      "execution_count": 39,
      "outputs": [
        {
          "output_type": "execute_result",
          "data": {
            "text/plain": [
              "Text(0.5, 87.37999999999997, 'Predicted label')"
            ]
          },
          "metadata": {},
          "execution_count": 39
        },
        {
          "output_type": "display_data",
          "data": {
            "text/plain": [
              "<Figure size 576x576 with 2 Axes>"
            ],
            "image/png": "[encoded data removed]"
          },
          "metadata": {}
        }
      ]
    },
    {
      "cell_type": "code",
      "source": [
        "# from the confusion matrix\n",
        "TP = true_pos = 10\n",
        "TN = true_neg = 4\n",
        "FP = false_pos = 3\n",
        "FN = false_neg = 3"
      ],
      "metadata": {
        "id": "cNgWVuta3QGQ"
      },
      "execution_count": 40,
      "outputs": []
    },
    {
      "cell_type": "markdown",
      "source": [
        "# Algumas métricas básicas\n",
        "Agora, vamos calcular algumas métricas básicas desses quatro valores.\n",
        "Precisaremos de um dicionário para armazenar essas métricas. Vamos criar um dicionário results."
      ],
      "metadata": {
        "id": "2nGXjkp93lrp"
      }
    },
    {
      "cell_type": "code",
      "source": [
        "results = {}"
      ],
      "metadata": {
        "id": "Xa9w6n4O3ioM"
      },
      "execution_count": 41,
      "outputs": []
    },
    {
      "cell_type": "markdown",
      "source": [
        "# Precisão\n",
        "número de exemplos previstos corretamente / número total de exemplos\n",
        "\n",
        "![alt text](https://wikimedia.org/api/rest_v1/media/math/render/svg/c72ec21ef2505c2d376e96197637fc64f75e5891)"
      ],
      "metadata": {
        "id": "JMuOZgmw3q9w"
      }
    },
    {
      "cell_type": "code",
      "source": [
        "metric = \"ACC\"\n",
        "results[metric] = (TP + TN) / (TP + TN + FP + FN)\n",
        "print(f\"{metric} e de {results[metric]: .3f}\")"
      ],
      "metadata": {
        "colab": {
          "base_uri": "https://localhost:8080/"
        },
        "id": "-YM7XzUO3xDH",
        "outputId": "4dc95cd3-83b4-4b3b-8720-569cf45bf112"
      },
      "execution_count": 42,
      "outputs": [
        {
          "output_type": "stream",
          "name": "stdout",
          "text": [
            "ACC e de  0.700\n"
          ]
        }
      ]
    },
    {
      "cell_type": "markdown",
      "source": [
        "# Taxa de Verdadeiro Positivo\n",
        "número de amostras reais e previsto como Positive/ número total de amostras reais Positive\n",
        "Também chamado de **Sensibilidade ou Recuperação **.\n",
        "\n",
        "![alt text](https://wikimedia.org/api/rest_v1/media/math/render/svg/64d5540cbadeb83f864d7a731b7ab43cccd0f353)"
      ],
      "metadata": {
        "id": "LFalcy3m37xI"
      }
    },
    {
      "cell_type": "code",
      "source": [
        "# Sensibilidade ou Recall\n",
        "metric = \"TPR\"\n",
        "results[metric] = TP / (TP + FN)\n",
        "print(f\"{metric} e de {results[metric]: .3f}\")"
      ],
      "metadata": {
        "colab": {
          "base_uri": "https://localhost:8080/"
        },
        "id": "NcBBlV-W4Cmo",
        "outputId": "0e99b093-9b20-412c-9aac-769c9b3db013"
      },
      "execution_count": 44,
      "outputs": [
        {
          "output_type": "stream",
          "name": "stdout",
          "text": [
            "TPR e de  0.769\n"
          ]
        }
      ]
    },
    {
      "cell_type": "markdown",
      "source": [
        "# Taxa Negativa Verdadeira\n",
        "número de amostras reais e previsto como Negative/número total de amostras reais Negative\n",
        "Também chamado de **Especificidade** .\n",
        "\n",
        "![alt text](https://wikimedia.org/api/rest_v1/media/math/render/svg/aac65b6586cb61c1268403895012c2a8f19b0c5e)\n"
      ],
      "metadata": {
        "id": "N612Wxff4PMV"
      }
    },
    {
      "cell_type": "code",
      "source": [
        "# Especificidade\n",
        "metric = \"TNR\"\n",
        "results[metric] = TN / (TN + FP)\n",
        "print(f\"{metric} e de {results[metric]: .3f}\")"
      ],
      "metadata": {
        "colab": {
          "base_uri": "https://localhost:8080/"
        },
        "id": "-lWGwl_94WZB",
        "outputId": "aab660ab-515f-44d6-a5af-556e8f496f4f"
      },
      "execution_count": 45,
      "outputs": [
        {
          "output_type": "stream",
          "name": "stdout",
          "text": [
            "TNR e de  0.571\n"
          ]
        }
      ]
    },
    {
      "cell_type": "markdown",
      "source": [
        "# Valor Preditivo Positivo\n",
        "número de amostras realmente e previsto como Positive/ número total de amostras previsto como Positive\n",
        " Também chamado de **Precisão .**\n",
        "\n",
        " ![alt text](https://wikimedia.org/api/rest_v1/media/math/render/svg/699fcdb880b7f6a92742bc0845b8b60b59806a98)"
      ],
      "metadata": {
        "id": "ZIudUQR34d3L"
      }
    },
    {
      "cell_type": "code",
      "source": [
        "#  Precisão\n",
        "metric = \"PPV\"\n",
        "results[metric] = TP / (TP + FP)\n",
        "print(f\"{metric} e de {results[metric]: .3f}\")"
      ],
      "metadata": {
        "colab": {
          "base_uri": "https://localhost:8080/"
        },
        "id": "_NWiBwKY4pr_",
        "outputId": "29aea3cd-be1b-4287-830e-6bcfaf40dd11"
      },
      "execution_count": 47,
      "outputs": [
        {
          "output_type": "stream",
          "name": "stdout",
          "text": [
            "PPV e de  0.769\n"
          ]
        }
      ]
    },
    {
      "cell_type": "markdown",
      "source": [
        "# Valor preditivo Negativo\n",
        "número de amostras realmente e previsto como Negative/ número total de amostras previsto como **Negativo**\n",
        "\n",
        "![alt text](https://wikimedia.org/api/rest_v1/media/math/render/svg/b6da0f59faffbc1704974e97847ab4fa599f5521)"
      ],
      "metadata": {
        "id": "3Lg9a73A4x5e"
      }
    },
    {
      "cell_type": "code",
      "source": [
        "metric = \"NPV\"\n",
        "results[metric] = TN / (TN + FN)\n",
        "print(f\"{metric} e de  {results[metric]: .3f}\")"
      ],
      "metadata": {
        "colab": {
          "base_uri": "https://localhost:8080/"
        },
        "id": "cb8Di8C95MKX",
        "outputId": "8788b825-976e-47ca-d01d-55b02c42b75f"
      },
      "execution_count": 48,
      "outputs": [
        {
          "output_type": "stream",
          "name": "stdout",
          "text": [
            "NPV e de   0.571\n"
          ]
        }
      ]
    },
    {
      "cell_type": "markdown",
      "source": [
        "# Pontuação F1 ou (F-SCORE)\n",
        "Média Harmônica de Precisão e Recall.\n",
        "\n",
        "![alt text](https://wikimedia.org/api/rest_v1/media/math/render/svg/5663ca95d471868169c4e4ea57c936f1b6f4a588)\n"
      ],
      "metadata": {
        "id": "30dT33045SAb"
      }
    },
    {
      "cell_type": "code",
      "source": [
        "metric = \"F-SCORE\"\n",
        "results[metric] = 2 / (1 / results[\"PPV\"] + 1 / results[\"TPR\"])\n",
        "print(f\"{metric} e de {results[metric]: .3f}\")"
      ],
      "metadata": {
        "colab": {
          "base_uri": "https://localhost:8080/"
        },
        "id": "oAa6xrz_5llz",
        "outputId": "34fdac7b-e8a7-4a7e-8f64-235814f59cb4"
      },
      "execution_count": 51,
      "outputs": [
        {
          "output_type": "stream",
          "name": "stdout",
          "text": [
            "F-SCORE e de  0.769\n"
          ]
        }
      ]
    },
    {
      "cell_type": "markdown",
      "source": [
        "# Coeficiente de correlação de Matthew\n",
        "O coeficiente de Matthew varia entre [-1, 1]. 0geralmente significa previsões totalmente aleatórias. 1significa um classificador perfeito, enquanto um valor negativo ( [-1, 0)) sugere uma correlação negativa entre as previsões e os valores reais.\n",
        "**Aqui' o formal para MCC**\n",
        "\n",
        "![alt text](https://wikimedia.org/api/rest_v1/media/math/render/svg/5caa90fc15105b74b59a30bbc9cc2e5bd43a13b7)"
      ],
      "metadata": {
        "id": "vOG9SmiU6hRj"
      }
    },
    {
      "cell_type": "code",
      "source": [
        "metric = \"MCC\"\n",
        "num = TP * TN - FP * FN\n",
        "den = ((TP + FP) * (TP + FN) * (TN + FP) * (TN + FN)) ** 0.5\n",
        "results[metric] = num / den\n",
        "print(f\"{metric} e de {results[metric]: .3f}\")"
      ],
      "metadata": {
        "colab": {
          "base_uri": "https://localhost:8080/"
        },
        "id": "MarlUTDi6oL0",
        "outputId": "35c73bec-5b99-4398-e96f-4648302c37b9"
      },
      "execution_count": 52,
      "outputs": [
        {
          "output_type": "stream",
          "name": "stdout",
          "text": [
            "MCC e de  0.341\n"
          ]
        }
      ]
    }
  ]
}